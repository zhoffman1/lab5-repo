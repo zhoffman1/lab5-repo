{
 "cells": [
  {
   "cell_type": "code",
   "execution_count": 1,
   "metadata": {},
   "outputs": [
    {
     "name": "stdin",
     "output_type": "stream",
     "text": [
      "ENTER YOUR NAME ?>  Zach\n",
      "ENTER YOUR MULTIPLIER ?>  10\n"
     ]
    },
    {
     "name": "stdout",
     "output_type": "stream",
     "text": [
      "Your name is Zach!!!\n",
      "You're lucky this time Zach\n",
      "Ni Hao Zach\n",
      "HI Zach\n",
      "Hola Zach\n",
      "Yo Zach\n",
      "Ni Hao Zach\n",
      "You're lucky this time Zach\n",
      "I am your father, Zach\n",
      "Put that on your plate! Zach\n",
      "Ni Hao Zach\n"
     ]
    }
   ],
   "source": [
    "import random\n",
    "\n",
    "messages = ['HI', 'Hello', 'Yo', \"What's up?\", \"Ni Hao\", \"Hola\", \"\", \"You're lucky this time\", \"Put that on your plate!\", \"I am your father,\", \"Lei Ho\", \"Guten Morgen\"]\n",
    "name = input(\"ENTER YOUR NAME ?> \")\n",
    "while True:\n",
    "    try:\n",
    "        times = int(input(\"ENTER YOUR MULTIPLIER ?> \"))\n",
    "        if (times <= 0): \n",
    "            print(\"YOUR MULTIPLIER MUST BE GREATER THAN ZERO!\")\n",
    "            continue\n",
    "        print(f\"Your name is {name}!!!\")\n",
    "        for i in range(times):\n",
    "            print(random.choice(messages) + ' ' + name)\n",
    "        break\n",
    "    except ValueError as e:\n",
    "        print(e)\n",
    "        continue\n"
   ]
  },
  {
   "cell_type": "code",
   "execution_count": null,
   "metadata": {},
   "outputs": [],
   "source": []
  }
 ],
 "metadata": {
  "kernelspec": {
   "display_name": "Python 3",
   "language": "python",
   "name": "python3"
  },
  "language_info": {
   "codemirror_mode": {
    "name": "ipython",
    "version": 3
   },
   "file_extension": ".py",
   "mimetype": "text/x-python",
   "name": "python",
   "nbconvert_exporter": "python",
   "pygments_lexer": "ipython3",
   "version": "3.8.5"
  }
 },
 "nbformat": 4,
 "nbformat_minor": 5
}
