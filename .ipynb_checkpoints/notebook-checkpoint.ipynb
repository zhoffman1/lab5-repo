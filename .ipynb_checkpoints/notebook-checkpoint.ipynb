{
 "cells": [
  {
   "cell_type": "code",
   "execution_count": 14,
   "id": "martial-dating",
   "metadata": {},
   "outputs": [
    {
     "name": "stdin",
     "output_type": "stream",
     "text": [
      "ENTER YOUR NAME ?>  hey\n",
      "ENTER YOUR MULTIPLIER ?>  45\n"
     ]
    },
    {
     "name": "stdout",
     "output_type": "stream",
     "text": [
      "Your name is hey!!!\n",
      "HIhey\n",
      "Hellohey\n",
      "What's up?hey\n",
      "Ni Haohey\n",
      "What's up?hey\n",
      "hey\n",
      "HIhey\n",
      "Hellohey\n",
      "What's up?hey\n",
      "What's up?hey\n",
      "What's up?hey\n",
      "What's up?hey\n",
      "Ni Haohey\n",
      "Hellohey\n",
      "hey\n",
      "Ni Haohey\n",
      "HIhey\n",
      "Holahey\n",
      "Yohey\n",
      "Hellohey\n",
      "Yohey\n",
      "hey\n",
      "Holahey\n",
      "hey\n",
      "Hellohey\n",
      "Holahey\n",
      "Yohey\n",
      "Holahey\n",
      "What's up?hey\n",
      "Yohey\n",
      "hey\n",
      "HIhey\n",
      "Hellohey\n",
      "What's up?hey\n",
      "hey\n",
      "Ni Haohey\n",
      "What's up?hey\n",
      "Hellohey\n",
      "HIhey\n",
      "Ni Haohey\n",
      "Hellohey\n",
      "What's up?hey\n",
      "What's up?hey\n",
      "hey\n",
      "Hellohey\n"
     ]
    }
   ],
   "source": [
    "import random\n",
    "\n",
    "messages = ['HI', 'Hello', 'Yo', \"What's up?\", \"Ni Hao\", \"Hola\", \"\", \"You're lucky this time\", \"Put that on your plate!\", \"I am your father,\", \"Lei Ho\", \"Guten Morgan\"]\n",
    "name = input(\"ENTER YOUR NAME ?> \")\n",
    "while True:\n",
    "    try:\n",
    "        times = int(input(\"ENTER YOUR MULTIPLIER ?> \"))\n",
    "        if (times <= 0): \n",
    "            print(\"YOUR MULTIPLIER MUST BE GREATER THAN ZERO!\")\n",
    "            continue\n",
    "        print(f\"Your name is {name}!!!\")\n",
    "        for i in range(times):\n",
    "            print(random.choice(messages) + ' ' + name)\n",
    "        break\n",
    "    except ValueError as e:\n",
    "        print(e)\n",
    "        continue\n"
   ]
  }
 ],
 "metadata": {
  "kernelspec": {
   "display_name": "Python 3",
   "language": "python",
   "name": "python3"
  },
  "language_info": {
   "codemirror_mode": {
    "name": "ipython",
    "version": 3
   },
   "file_extension": ".py",
   "mimetype": "text/x-python",
   "name": "python",
   "nbconvert_exporter": "python",
   "pygments_lexer": "ipython3",
   "version": "3.8.5"
  }
 },
 "nbformat": 4,
 "nbformat_minor": 5
}
